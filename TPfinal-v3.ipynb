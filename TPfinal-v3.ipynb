{
 "cells": [
  {
   "cell_type": "code",
   "execution_count": 22,
   "metadata": {},
   "outputs": [],
   "source": [
    "import numpy as np\n",
    "import matplotlib.pyplot as plt"
   ]
  },
  {
   "cell_type": "code",
   "execution_count": 23,
   "metadata": {},
   "outputs": [],
   "source": [
    "#==PARAMETROS\n",
    "EXP=1 #TODO: hacer promedios para poder correr durante algunos meses \n",
    "DIAS=20  #Una corrida equivale a un dia\n",
    "incrementoStockM4= 50\n",
    "incrementoStockM6= 30\n",
    "#cantidad de minutos de 1 dia laboral de 8 horas\n",
    "minutosXdia = 60*8\n",
    "cantDiasProduccion = 10\n",
    "#velocidad Operadores distribución Exponencial con media 5 min. para las partes de la mesa M4 \n",
    "#y 10 min. para las partes de la mesa M6\n",
    "# Si el valor es muy pequeño probar con 25 para M4 y 30 para M6\n",
    "velOperM4=5\n",
    "velOperM6=10\n",
    "#==================\n",
    "\n",
    "#== VARIABLES AUXILIARES\n",
    "pedidos = []\n",
    "stockM4=0\n",
    "stockM6=0\n",
    "pedidosAtendidos=0\n",
    "pedidosNOatendidos=0\n",
    "#stockM6=0\n",
    "minutosRestantes=0 #Contador de minutos restantes en un dia \n",
    "\n",
    "\n",
    "solicitudesSinAtender=0\n",
    "solicitudesAtendidas=0\n",
    "mesasConstruidasM4=[]\n",
    "mesasConstruidasM6=[]\n",
    "tiemposOperarios=[]\n"
   ]
  },
  {
   "cell_type": "code",
   "execution_count": 24,
   "metadata": {},
   "outputs": [],
   "source": [
    "class Pedido:\n",
    "    def __init__(self, tipo):\n",
    "        self.tipo = tipo\n",
    "        \n",
    "    def get_tipo(self):\n",
    "        return self.tipo\n",
    "    \n",
    "    def __str__(self):\n",
    "        return \"Pedido - tipo:{}\".format(self.tipo)"
   ]
  },
  {
   "cell_type": "code",
   "execution_count": 25,
   "metadata": {},
   "outputs": [],
   "source": [
    "def calcular_porcentajes(solicitudesAtendidas, solicitudesSinAtender):\n",
    "    total = solicitudesAtendidas + solicitudesSinAtender\n",
    "    porc_atendidas = ( solicitudesAtendidas * 100 ) / total\n",
    "    porc_sin_atender = ( solicitudesSinAtender * 100) / total\n",
    "    return porc_atendidas, porc_sin_atender"
   ]
  },
  {
   "cell_type": "code",
   "execution_count": 26,
   "metadata": {},
   "outputs": [],
   "source": [
    "def calcular_mejora(porc_1, porc_2):\n",
    "    return abs(porc_1 - porc_2)"
   ]
  },
  {
   "cell_type": "code",
   "execution_count": 27,
   "metadata": {},
   "outputs": [],
   "source": [
    "def simular(incrementoStockM4, incrementoStockM6, cantDiasProduccion):\n",
    "    pedidos = []\n",
    "    stockM4=0\n",
    "    stockM6=0\n",
    "    pedidosAtendidos=0\n",
    "    pedidosNOatendidos=0\n",
    "    #stockM6=0\n",
    "    minutosRestantes=0 #Contador de minutos restantes en un dia \n",
    "\n",
    "\n",
    "    solicitudesSinAtender=0\n",
    "    solicitudesAtendidas=0\n",
    "    mesasConstruidasM4=[]\n",
    "    mesasConstruidasM6=[]\n",
    "    tiemposOperarios=[]\n",
    "\n",
    "    for i in range(EXP):\n",
    "        for dia in range(DIAS):\n",
    "            minutosRestantes = minutosXdia\n",
    "            mesasConstruidasM4.append(0)\n",
    "            mesasConstruidasM6.append(0)\n",
    "            tiemposOperarios.append(0)\n",
    "\n",
    "            #Incremento el stock los promeros N dias\n",
    "            if (dia <= cantDiasProduccion):\n",
    "                stockM4 +=incrementoStockM4\n",
    "                stockM6 +=incrementoStockM6\n",
    "\n",
    "            cantPedidosM4 = np.random.poisson(8)\n",
    "            cantPedidosM6 = np.random.poisson(4)\n",
    "\n",
    "            #Armo una lista con elemntos M4 y M6\n",
    "            for _ in range(cantPedidosM4):\n",
    "                pedidos.append('M4')\n",
    "            for _ in range(cantPedidosM6):    \n",
    "                pedidos.append('M6')\n",
    "\n",
    "\n",
    "            #Desordeno lista para no atender siempre las M4 primero\n",
    "            np.random.shuffle(pedidos)    \n",
    "\n",
    "\n",
    "            #Recorro la lista de solicitudes\n",
    "            for item in pedidos:   \n",
    "                if (minutosRestantes > 0):\n",
    "                    if (item == 'M4'):                \n",
    "                        if (stockM4 > 0):\n",
    "                            #Decrementar stock M4\n",
    "                            stockM4 -= 1\n",
    "\n",
    "                            #Esperar tiempo de Operador. se resta al tiempo disponible                    \n",
    "                            tiempoEspera = np.random.exponential(scale=velOperM4)\n",
    "                            minutosRestantes -= tiempoEspera\n",
    "\n",
    "                            #Contabilizar tiempo de Operarios (espera)\n",
    "                            tiemposOperarios[dia] += tiempoEspera\n",
    "\n",
    "                            #contabilizar solicitudes atendidas (por dia)\n",
    "                            solicitudesAtendidas += 1\n",
    "\n",
    "                            #Incrementamos contador de mesas contruidas M4                \n",
    "                            mesasConstruidasM4[dia] += 1 \n",
    "\n",
    "                            #Resto al tiempo restante la velocidad de extraccion M4\n",
    "                            #minutosRestantes -= item.velocidad\n",
    "\n",
    "                        else:                        \n",
    "                            solicitudesSinAtender +=1\n",
    "\n",
    "                    if (item == 'M6'):                \n",
    "                        if (stockM6 > 0):\n",
    "                            #Decrementar stock M4\n",
    "                            stockM6 -= 1\n",
    "\n",
    "                            #Esperar tiempo de Operador. se resta al tiempo disponible                    \n",
    "                            tiempoEspera = np.random.exponential(scale=velOperM6)\n",
    "                            minutosRestantes -= tiempoEspera\n",
    "\n",
    "                            #Contabilizar tiempo de Operarios (espera)\n",
    "                            tiemposOperarios[dia] += tiempoEspera\n",
    "\n",
    "                            #contabilizar solicitudes atendidas (por dia)\n",
    "                            solicitudesAtendidas += 1\n",
    "\n",
    "                            #Incrementamos contador de mesas contruidas M6                \n",
    "                            mesasConstruidasM6[dia] += 1 \n",
    "\n",
    "                            #Resto al tiempo restante la velocidad de extraccion M6\n",
    "                            #minutosRestantes -= item.velocidad\n",
    "\n",
    "                        else:                        \n",
    "                            solicitudesSinAtender +=1\n",
    "\n",
    "\n",
    "                else: \n",
    "                    #Se terminaron los minutos del dia\n",
    "                    #contabilizar solicitudes NO atendidas (por dia)\n",
    "                    solicitudesSinAtender +=1\n",
    "    return solicitudesAtendidas, solicitudesSinAtender"
   ]
  },
  {
   "cell_type": "markdown",
   "metadata": {},
   "source": [
    "#### Simulamos con los parametros default"
   ]
  },
  {
   "cell_type": "code",
   "execution_count": 28,
   "metadata": {},
   "outputs": [
    {
     "data": {
      "text/plain": [
       "\"\\nprint('Mesas M4 construidas por dia:')\\nfor dia in range(DIAS):\\n    print('--DIA: %02d' % (dia + 1) + ' cantidad: ' + str(mesasConstruidasM4[dia] )) \\n\\nprint('Mesas M6 construidas por dia:')\\nfor dia in range(DIAS):\\n    print('--DIA: %02d' % (dia + 1) + ' cantidad: ' + str(mesasConstruidasM6[dia] )) \\n\\nprint('Minutos totales de espera Operarios en Deposito por dia:')\\nfor dia in range(DIAS):\\n    print('--DIA: %02d' % (dia + 1) + ' cantidad: %.0f' % (tiemposOperarios[dia]) ) \\n\\n\""
      ]
     },
     "execution_count": 28,
     "metadata": {},
     "output_type": "execute_result"
    }
   ],
   "source": [
    "\"\"\"\n",
    "print('Mesas M4 construidas por dia:')\n",
    "for dia in range(DIAS):\n",
    "    print('--DIA: %02d' % (dia + 1) + ' cantidad: ' + str(mesasConstruidasM4[dia] )) \n",
    "\n",
    "print('Mesas M6 construidas por dia:')\n",
    "for dia in range(DIAS):\n",
    "    print('--DIA: %02d' % (dia + 1) + ' cantidad: ' + str(mesasConstruidasM6[dia] )) \n",
    "\n",
    "print('Minutos totales de espera Operarios en Deposito por dia:')\n",
    "for dia in range(DIAS):\n",
    "    print('--DIA: %02d' % (dia + 1) + ' cantidad: %.0f' % (tiemposOperarios[dia]) ) \n",
    "\n",
    "\"\"\""
   ]
  },
  {
   "cell_type": "code",
   "execution_count": null,
   "metadata": {},
   "outputs": [],
   "source": []
  },
  {
   "cell_type": "code",
   "execution_count": 29,
   "metadata": {},
   "outputs": [
    {
     "name": "stdout",
     "output_type": "stream",
     "text": [
      "PARAMETRO Minutos totales de trabajo diario: 480\n",
      "Solicitudes atendidas: 880 (33.87%) \n",
      "Solicitudes NO atendidas: 1718 (66.13%)\n"
     ]
    }
   ],
   "source": [
    "solicitudesAtendidas, solicitudesSinAtender = simular(50,30,10)                  \n",
    "                    \n",
    "#RESULTADOS\n",
    "porc_atendidas_5030, porc_sin_atender = calcular_porcentajes(solicitudesAtendidas, solicitudesSinAtender)\n",
    "\n",
    "print('PARAMETRO Minutos totales de trabajo diario: ' + str(minutosXdia))\n",
    "print('Solicitudes atendidas: {} ({:.2f}%) '.format(str(solicitudesAtendidas), porc_atendidas_5030))\n",
    "print('Solicitudes NO atendidas: {} ({:.2f}%)'.format(str(solicitudesSinAtender), porc_sin_atender ))"
   ]
  },
  {
   "cell_type": "code",
   "execution_count": null,
   "metadata": {},
   "outputs": [],
   "source": []
  },
  {
   "cell_type": "code",
   "execution_count": 30,
   "metadata": {},
   "outputs": [
    {
     "name": "stdout",
     "output_type": "stream",
     "text": [
      "PARAMETRO Minutos totales de trabajo diario: 480\n",
      "Solicitudes atendidas: 1100 (43.75%) \n",
      "Solicitudes NO atendidas: 1414 (56.25%)\n"
     ]
    }
   ],
   "source": [
    "solicitudesAtendidas, solicitudesSinAtender = simular(60,40,10)                  \n",
    "                    \n",
    "#RESULTADOS\n",
    "porc_atendidas_6040, porc_sin_atender = calcular_porcentajes(solicitudesAtendidas, solicitudesSinAtender)\n",
    "\n",
    "print('PARAMETRO Minutos totales de trabajo diario: ' + str(minutosXdia))\n",
    "print('Solicitudes atendidas: {} ({:.2f}%) '.format(str(solicitudesAtendidas), porc_atendidas_6040))\n",
    "print('Solicitudes NO atendidas: {} ({:.2f}%)'.format(str(solicitudesSinAtender), porc_sin_atender ))"
   ]
  },
  {
   "cell_type": "code",
   "execution_count": 31,
   "metadata": {},
   "outputs": [
    {
     "name": "stdout",
     "output_type": "stream",
     "text": [
      "La mejora estimada es de un: 9.88%\n"
     ]
    }
   ],
   "source": [
    "print(\"La mejora estimada es de un: {:.2f}%\".format(calcular_mejora(porc_atendidas_5030, porc_atendidas_6040)))"
   ]
  },
  {
   "cell_type": "code",
   "execution_count": null,
   "metadata": {},
   "outputs": [],
   "source": []
  }
 ],
 "metadata": {
  "kernelspec": {
   "display_name": "Python 3",
   "language": "python",
   "name": "python3"
  },
  "language_info": {
   "codemirror_mode": {
    "name": "ipython",
    "version": 3
   },
   "file_extension": ".py",
   "mimetype": "text/x-python",
   "name": "python",
   "nbconvert_exporter": "python",
   "pygments_lexer": "ipython3",
   "version": "3.6.5"
  }
 },
 "nbformat": 4,
 "nbformat_minor": 2
}
